{
 "cells": [
  {
   "cell_type": "markdown",
   "metadata": {
    "id": "Y3D6D9oezSZk"
   },
   "source": [
    "## 数据分析要求\n",
    "\n",
    "### 一、数据摘要和可视化\n",
    "\n",
    "#### - 数据摘要\n",
    "      \n",
    "      1. 标称属性，给出每个可能取值的频数\n",
    "      \n",
    "      2. 数值属性，给出5数概括及缺失值的个数\n",
    "      \n",
    "#### - 数据可视化\n",
    "\n",
    "      使用直方图、盒图等检查数据分布及离群点\n",
    "      \n",
    "      \n",
    "### 二、数据缺失的处理\n",
    "\n",
    "#### - 观察数据集中缺失数据，分析其缺失的原因。分别使用下列四种策略对缺失值进行处理:\n",
    "    \n",
    "    1. 将缺失部分剔除\n",
    "    \n",
    "    2. 用最高频率值来填补缺失值\n",
    "    \n",
    "    3. 通过属性的相关关系来填补缺失值\n",
    "    \n",
    "    4.通过数据对象之间的相似性来填补缺失值\n",
    "\n",
    "#### 注意：在处理后完成，要对比新旧数据集的差异。"
   ]
  },
  {
   "cell_type": "code",
   "execution_count": null,
   "metadata": {
    "execution": {
     "iopub.execute_input": "2024-03-21T02:50:22.99038Z",
     "iopub.status.busy": "2024-03-21T02:50:22.989916Z",
     "iopub.status.idle": "2024-03-21T02:50:23.069831Z",
     "shell.execute_reply": "2024-03-21T02:50:23.068271Z",
     "shell.execute_reply.started": "2024-03-21T02:50:22.990329Z"
    },
    "id": "JvNXn8GgzSZm",
    "outputId": "68f2dedd-0944-42a9-8e70-24af340c80d6"
   },
   "outputs": [
    {
     "data": {
      "text/html": [
       "<div>\n",
       "<style scoped>\n",
       "    .dataframe tbody tr th:only-of-type {\n",
       "        vertical-align: middle;\n",
       "    }\n",
       "\n",
       "    .dataframe tbody tr th {\n",
       "        vertical-align: top;\n",
       "    }\n",
       "\n",
       "    .dataframe thead th {\n",
       "        text-align: right;\n",
       "    }\n",
       "</style>\n",
       "<table border=\"1\" class=\"dataframe\">\n",
       "  <thead>\n",
       "    <tr style=\"text-align: right;\">\n",
       "      <th></th>\n",
       "      <th>movieId</th>\n",
       "      <th>title</th>\n",
       "      <th>genres</th>\n",
       "    </tr>\n",
       "  </thead>\n",
       "  <tbody>\n",
       "    <tr>\n",
       "      <th>0</th>\n",
       "      <td>1</td>\n",
       "      <td>Toy Story (1995)</td>\n",
       "      <td>Adventure|Animation|Children|Comedy|Fantasy</td>\n",
       "    </tr>\n",
       "    <tr>\n",
       "      <th>1</th>\n",
       "      <td>2</td>\n",
       "      <td>Jumanji (1995)</td>\n",
       "      <td>Adventure|Children|Fantasy</td>\n",
       "    </tr>\n",
       "    <tr>\n",
       "      <th>2</th>\n",
       "      <td>3</td>\n",
       "      <td>Grumpier Old Men (1995)</td>\n",
       "      <td>Comedy|Romance</td>\n",
       "    </tr>\n",
       "    <tr>\n",
       "      <th>3</th>\n",
       "      <td>4</td>\n",
       "      <td>Waiting to Exhale (1995)</td>\n",
       "      <td>Comedy|Drama|Romance</td>\n",
       "    </tr>\n",
       "    <tr>\n",
       "      <th>4</th>\n",
       "      <td>5</td>\n",
       "      <td>Father of the Bride Part II (1995)</td>\n",
       "      <td>Comedy</td>\n",
       "    </tr>\n",
       "  </tbody>\n",
       "</table>\n",
       "</div>"
      ],
      "text/plain": [
       "   movieId                               title  \\\n",
       "0        1                    Toy Story (1995)   \n",
       "1        2                      Jumanji (1995)   \n",
       "2        3             Grumpier Old Men (1995)   \n",
       "3        4            Waiting to Exhale (1995)   \n",
       "4        5  Father of the Bride Part II (1995)   \n",
       "\n",
       "                                        genres  \n",
       "0  Adventure|Animation|Children|Comedy|Fantasy  \n",
       "1                   Adventure|Children|Fantasy  \n",
       "2                               Comedy|Romance  \n",
       "3                         Comedy|Drama|Romance  \n",
       "4                                       Comedy  "
      ]
     },
     "execution_count": 54,
     "metadata": {},
     "output_type": "execute_result"
    }
   ],
   "source": [
    "import numpy as np\n",
    "import pandas as pd\n",
    "import seaborn as sns\n",
    "import matplotlib.pyplot as plt\n",
    "\n",
    "columns = ['movieId', 'title', 'genres']\n",
    "movies = pd.read_csv('/kaggle/input/movielens-10m-dataset-latest-version/ml-10M100K/movies.dat', sep='::', names=columns, engine='python')\n",
    "movies.head(5)"
   ]
  },
  {
   "cell_type": "code",
   "execution_count": null,
   "metadata": {
    "execution": {
     "iopub.execute_input": "2024-03-21T02:50:23.072148Z",
     "iopub.status.busy": "2024-03-21T02:50:23.071731Z",
     "iopub.status.idle": "2024-03-21T02:50:23.123635Z",
     "shell.execute_reply": "2024-03-21T02:50:23.122557Z",
     "shell.execute_reply.started": "2024-03-21T02:50:23.072118Z"
    },
    "id": "_ncr-D-hzSZm",
    "outputId": "26d841f0-eb85-4d33-c4d5-9f1d4ea48d79"
   },
   "outputs": [
    {
     "data": {
      "text/html": [
       "<div>\n",
       "<style scoped>\n",
       "    .dataframe tbody tr th:only-of-type {\n",
       "        vertical-align: middle;\n",
       "    }\n",
       "\n",
       "    .dataframe tbody tr th {\n",
       "        vertical-align: top;\n",
       "    }\n",
       "\n",
       "    .dataframe thead th {\n",
       "        text-align: right;\n",
       "    }\n",
       "</style>\n",
       "<table border=\"1\" class=\"dataframe\">\n",
       "  <thead>\n",
       "    <tr style=\"text-align: right;\">\n",
       "      <th></th>\n",
       "      <th>movieId</th>\n",
       "      <th>title</th>\n",
       "      <th>genres</th>\n",
       "      <th>year</th>\n",
       "    </tr>\n",
       "  </thead>\n",
       "  <tbody>\n",
       "    <tr>\n",
       "      <th>0</th>\n",
       "      <td>1</td>\n",
       "      <td>Toy Story</td>\n",
       "      <td>[Adventure, Animation, Children, Comedy, Fantasy]</td>\n",
       "      <td>1995</td>\n",
       "    </tr>\n",
       "    <tr>\n",
       "      <th>1</th>\n",
       "      <td>2</td>\n",
       "      <td>Jumanji</td>\n",
       "      <td>[Adventure, Children, Fantasy]</td>\n",
       "      <td>1995</td>\n",
       "    </tr>\n",
       "    <tr>\n",
       "      <th>2</th>\n",
       "      <td>3</td>\n",
       "      <td>Grumpier Old Men</td>\n",
       "      <td>[Comedy, Romance]</td>\n",
       "      <td>1995</td>\n",
       "    </tr>\n",
       "    <tr>\n",
       "      <th>3</th>\n",
       "      <td>4</td>\n",
       "      <td>Waiting to Exhale</td>\n",
       "      <td>[Comedy, Drama, Romance]</td>\n",
       "      <td>1995</td>\n",
       "    </tr>\n",
       "    <tr>\n",
       "      <th>4</th>\n",
       "      <td>5</td>\n",
       "      <td>Father of the Bride Part II</td>\n",
       "      <td>[Comedy]</td>\n",
       "      <td>1995</td>\n",
       "    </tr>\n",
       "  </tbody>\n",
       "</table>\n",
       "</div>"
      ],
      "text/plain": [
       "   movieId                        title  \\\n",
       "0        1                    Toy Story   \n",
       "1        2                      Jumanji   \n",
       "2        3             Grumpier Old Men   \n",
       "3        4            Waiting to Exhale   \n",
       "4        5  Father of the Bride Part II   \n",
       "\n",
       "                                              genres  year  \n",
       "0  [Adventure, Animation, Children, Comedy, Fantasy]  1995  \n",
       "1                     [Adventure, Children, Fantasy]  1995  \n",
       "2                                  [Comedy, Romance]  1995  \n",
       "3                           [Comedy, Drama, Romance]  1995  \n",
       "4                                           [Comedy]  1995  "
      ]
     },
     "execution_count": 55,
     "metadata": {},
     "output_type": "execute_result"
    }
   ],
   "source": [
    "movies['genres'] = movies['genres'].apply(lambda x: x.split('|'))\n",
    "movies['year'] = movies['title'].apply(lambda x: int(x[-5:-1]) if x[-5:-1].isdigit() else -1)\n",
    "movies['title'] = movies['title'].apply(lambda s: s[:-7] if s[-5:-1].isdigit() else s)\n",
    "movies.head(5)"
   ]
  },
  {
   "cell_type": "code",
   "execution_count": null,
   "metadata": {
    "execution": {
     "iopub.execute_input": "2024-03-21T02:50:23.12657Z",
     "iopub.status.busy": "2024-03-21T02:50:23.126131Z",
     "iopub.status.idle": "2024-03-21T02:51:59.948873Z",
     "shell.execute_reply": "2024-03-21T02:51:59.947584Z",
     "shell.execute_reply.started": "2024-03-21T02:50:23.12654Z"
    },
    "id": "SulalQKizSZn",
    "outputId": "625a95cc-b49a-4a89-81e1-01aba9c0ba46"
   },
   "outputs": [
    {
     "data": {
      "text/html": [
       "<div>\n",
       "<style scoped>\n",
       "    .dataframe tbody tr th:only-of-type {\n",
       "        vertical-align: middle;\n",
       "    }\n",
       "\n",
       "    .dataframe tbody tr th {\n",
       "        vertical-align: top;\n",
       "    }\n",
       "\n",
       "    .dataframe thead th {\n",
       "        text-align: right;\n",
       "    }\n",
       "</style>\n",
       "<table border=\"1\" class=\"dataframe\">\n",
       "  <thead>\n",
       "    <tr style=\"text-align: right;\">\n",
       "      <th></th>\n",
       "      <th>userId</th>\n",
       "      <th>movieId</th>\n",
       "      <th>rating</th>\n",
       "      <th>timestamp</th>\n",
       "    </tr>\n",
       "  </thead>\n",
       "  <tbody>\n",
       "    <tr>\n",
       "      <th>0</th>\n",
       "      <td>1</td>\n",
       "      <td>122</td>\n",
       "      <td>5.0</td>\n",
       "      <td>1996</td>\n",
       "    </tr>\n",
       "    <tr>\n",
       "      <th>1</th>\n",
       "      <td>1</td>\n",
       "      <td>185</td>\n",
       "      <td>5.0</td>\n",
       "      <td>1996</td>\n",
       "    </tr>\n",
       "    <tr>\n",
       "      <th>2</th>\n",
       "      <td>1</td>\n",
       "      <td>231</td>\n",
       "      <td>5.0</td>\n",
       "      <td>1996</td>\n",
       "    </tr>\n",
       "    <tr>\n",
       "      <th>3</th>\n",
       "      <td>1</td>\n",
       "      <td>292</td>\n",
       "      <td>5.0</td>\n",
       "      <td>1996</td>\n",
       "    </tr>\n",
       "    <tr>\n",
       "      <th>4</th>\n",
       "      <td>1</td>\n",
       "      <td>316</td>\n",
       "      <td>5.0</td>\n",
       "      <td>1996</td>\n",
       "    </tr>\n",
       "  </tbody>\n",
       "</table>\n",
       "</div>"
      ],
      "text/plain": [
       "   userId  movieId  rating  timestamp\n",
       "0       1      122     5.0       1996\n",
       "1       1      185     5.0       1996\n",
       "2       1      231     5.0       1996\n",
       "3       1      292     5.0       1996\n",
       "4       1      316     5.0       1996"
      ]
     },
     "execution_count": 56,
     "metadata": {},
     "output_type": "execute_result"
    }
   ],
   "source": [
    "columns = ['userId','movieId', 'rating', 'timestamp']\n",
    "ratings = pd.read_csv('/kaggle/input/movielens-10m-dataset-latest-version/ml-10M100K/ratings.dat', sep='::', names=columns, engine='python')\n",
    "ratings['timestamp'] = pd.to_datetime(ratings['timestamp'], unit='s').dt.year\n",
    "ratings.head()"
   ]
  },
  {
   "cell_type": "markdown",
   "metadata": {
    "id": "n80O2pxCzSZn"
   },
   "source": [
    "## 1. Data Details  -- Movies dataset & Ratings dataset\n",
    "\n",
    "### Nominal Attributes\n",
    "\n",
    "`genres` - the genres of the movies\n"
   ]
  },
  {
   "cell_type": "code",
   "execution_count": null,
   "metadata": {
    "execution": {
     "iopub.execute_input": "2024-03-21T02:51:59.950342Z",
     "iopub.status.busy": "2024-03-21T02:51:59.950045Z",
     "iopub.status.idle": "2024-03-21T02:51:59.969612Z",
     "shell.execute_reply": "2024-03-21T02:51:59.968325Z",
     "shell.execute_reply.started": "2024-03-21T02:51:59.950316Z"
    },
    "id": "IxSuGhKHzSZo",
    "outputId": "4ac3c9bb-413f-48ad-8833-ef20972d892c"
   },
   "outputs": [
    {
     "data": {
      "text/plain": [
       "genres\n",
       "Drama                 5339\n",
       "Comedy                3703\n",
       "Thriller              1706\n",
       "Romance               1685\n",
       "Action                1473\n",
       "Crime                 1118\n",
       "Adventure             1025\n",
       "Horror                1013\n",
       "Sci-Fi                 754\n",
       "Fantasy                543\n",
       "Children               528\n",
       "War                    511\n",
       "Mystery                509\n",
       "Documentary            482\n",
       "Musical                436\n",
       "Animation              286\n",
       "Western                275\n",
       "Film-Noir              148\n",
       "IMAX                    29\n",
       "(no genres listed)       1\n",
       "Name: count, dtype: int64"
      ]
     },
     "execution_count": 57,
     "metadata": {},
     "output_type": "execute_result"
    }
   ],
   "source": [
    "movies_genres = movies['genres']\n",
    "exploded_movies_genres = movies_genres.explode('genres')\n",
    "count_movies_genres  = exploded_movies_genres.value_counts()\n",
    "count_movies_genres"
   ]
  },
  {
   "cell_type": "markdown",
   "metadata": {
    "id": "2P82MYiTzSZo"
   },
   "source": [
    "经过分析，认为IMax类别、no genres listed 属于异常数据，在value_count后删去处理"
   ]
  },
  {
   "cell_type": "code",
   "execution_count": null,
   "metadata": {
    "execution": {
     "iopub.execute_input": "2024-03-21T02:51:59.972082Z",
     "iopub.status.busy": "2024-03-21T02:51:59.971426Z",
     "iopub.status.idle": "2024-03-21T02:52:00.360353Z",
     "shell.execute_reply": "2024-03-21T02:52:00.359447Z",
     "shell.execute_reply.started": "2024-03-21T02:51:59.97205Z"
    },
    "id": "qHdtILWWzSZo",
    "outputId": "c1ded041-25e4-4d85-89f7-78c82907c068"
   },
   "outputs": [
    {
     "data": {
      "image/png": "[encoded data removed]",
      "text/plain": [
       "<Figure size 1600x600 with 1 Axes>"
      ]
     },
     "metadata": {},
     "output_type": "display_data"
    }
   ],
   "source": [
    "count_movies_genres_process = count_movies_genres[:-2]\n",
    "plt.figure(figsize=(16,6))\n",
    "sns.barplot(y=count_movies_genres_process.values, x=count_movies_genres_process.index)\n",
    "plt.title(\"Count of movie genres\")\n",
    "plt.xlabel(\"movie genres\")\n",
    "plt.xticks(rotation=70)\n",
    "plt.ylabel(\"count\")\n",
    "plt.show()"
   ]
  },
  {
   "cell_type": "markdown",
   "metadata": {
    "id": "KqwWtcuMzSZp"
   },
   "source": [
    "### Numeric Attributes\n",
    "\n",
    "`rating` - rating of the movie\n",
    "\n",
    "`year` - year of the movie\n",
    "\n",
    "`timestamp` - timestamp of the rating\n"
   ]
  },
  {
   "cell_type": "code",
   "execution_count": null,
   "metadata": {
    "execution": {
     "iopub.execute_input": "2024-03-21T02:52:00.362422Z",
     "iopub.status.busy": "2024-03-21T02:52:00.362111Z",
     "iopub.status.idle": "2024-03-21T02:52:00.380096Z",
     "shell.execute_reply": "2024-03-21T02:52:00.378943Z",
     "shell.execute_reply.started": "2024-03-21T02:52:00.362394Z"
    },
    "id": "KqD3FBqIzSZp",
    "outputId": "7459d673-2d8c-4c0c-d6da-70b20a2ca627"
   },
   "outputs": [
    {
     "data": {
      "text/html": [
       "<div>\n",
       "<style scoped>\n",
       "    .dataframe tbody tr th:only-of-type {\n",
       "        vertical-align: middle;\n",
       "    }\n",
       "\n",
       "    .dataframe tbody tr th {\n",
       "        vertical-align: top;\n",
       "    }\n",
       "\n",
       "    .dataframe thead th {\n",
       "        text-align: right;\n",
       "    }\n",
       "</style>\n",
       "<table border=\"1\" class=\"dataframe\">\n",
       "  <thead>\n",
       "    <tr style=\"text-align: right;\">\n",
       "      <th></th>\n",
       "      <th>year</th>\n",
       "    </tr>\n",
       "  </thead>\n",
       "  <tbody>\n",
       "    <tr>\n",
       "      <th>mean</th>\n",
       "      <td>1986</td>\n",
       "    </tr>\n",
       "    <tr>\n",
       "      <th>25%</th>\n",
       "      <td>1979</td>\n",
       "    </tr>\n",
       "    <tr>\n",
       "      <th>50%</th>\n",
       "      <td>1994</td>\n",
       "    </tr>\n",
       "    <tr>\n",
       "      <th>75%</th>\n",
       "      <td>2001</td>\n",
       "    </tr>\n",
       "    <tr>\n",
       "      <th>max</th>\n",
       "      <td>2008</td>\n",
       "    </tr>\n",
       "  </tbody>\n",
       "</table>\n",
       "</div>"
      ],
      "text/plain": [
       "      year\n",
       "mean  1986\n",
       "25%   1979\n",
       "50%   1994\n",
       "75%   2001\n",
       "max   2008"
      ]
     },
     "execution_count": 59,
     "metadata": {},
     "output_type": "execute_result"
    }
   ],
   "source": [
    "numeric_movie_data = pd.DataFrame(movies, columns=['year'])\n",
    "numeric_movie_describe = numeric_movie_data.describe()\n",
    "numeric_movie_describe.loc[['mean', '25%', '50%', '75%', 'max']].astype(int)"
   ]
  },
  {
   "cell_type": "code",
   "execution_count": null,
   "metadata": {
    "execution": {
     "iopub.execute_input": "2024-03-21T02:52:00.381953Z",
     "iopub.status.busy": "2024-03-21T02:52:00.381627Z",
     "iopub.status.idle": "2024-03-21T02:52:00.865465Z",
     "shell.execute_reply": "2024-03-21T02:52:00.864184Z",
     "shell.execute_reply.started": "2024-03-21T02:52:00.381917Z"
    },
    "id": "ouKPFPK3zSZp",
    "outputId": "82b9aae7-aead-421e-f8f5-3d7366eb43a6"
   },
   "outputs": [
    {
     "name": "stderr",
     "output_type": "stream",
     "text": [
      "/tmp/ipykernel_33/851313466.py:2: FutureWarning: Series.__getitem__ treating keys as positions is deprecated. In a future version, integer keys will always be treated as labels (consistent with DataFrame behavior). To access a value by position, use `ser.iloc[pos]`\n",
      "  plt.hist(numeric_movie_data,bin_size[0])\n"
     ]
    },
    {
     "data": {
      "text/plain": [
       "Text(0.5, 1.0, 'count of movies in years')"
      ]
     },
     "execution_count": 60,
     "metadata": {},
     "output_type": "execute_result"
    },
    {
     "data": {
      "image/png": "[encoded data removed]",
      "text/plain": [
       "<Figure size 640x480 with 1 Axes>"
      ]
     },
     "metadata": {},
     "output_type": "display_data"
    }
   ],
   "source": [
    "bin_size = numeric_movie_data.max() - numeric_movie_data.min()\n",
    "plt.hist(numeric_movie_data,bin_size[0])\n",
    "plt.xlabel('year')\n",
    "plt.ylabel(\"count\")\n",
    "plt.title(\"count of movies in years\")"
   ]
  },
  {
   "cell_type": "code",
   "execution_count": null,
   "metadata": {
    "execution": {
     "iopub.execute_input": "2024-03-21T02:52:00.867681Z",
     "iopub.status.busy": "2024-03-21T02:52:00.867323Z",
     "iopub.status.idle": "2024-03-21T02:52:01.707068Z",
     "shell.execute_reply": "2024-03-21T02:52:01.705932Z",
     "shell.execute_reply.started": "2024-03-21T02:52:00.867651Z"
    },
    "id": "EutULpA1zSZq",
    "outputId": "6fdfb7db-e49c-4e05-cbde-b1d321957cb5"
   },
   "outputs": [
    {
     "data": {
      "text/html": [
       "<div>\n",
       "<style scoped>\n",
       "    .dataframe tbody tr th:only-of-type {\n",
       "        vertical-align: middle;\n",
       "    }\n",
       "\n",
       "    .dataframe tbody tr th {\n",
       "        vertical-align: top;\n",
       "    }\n",
       "\n",
       "    .dataframe thead th {\n",
       "        text-align: right;\n",
       "    }\n",
       "</style>\n",
       "<table border=\"1\" class=\"dataframe\">\n",
       "  <thead>\n",
       "    <tr style=\"text-align: right;\">\n",
       "      <th></th>\n",
       "      <th>rating</th>\n",
       "      <th>timestamp</th>\n",
       "    </tr>\n",
       "  </thead>\n",
       "  <tbody>\n",
       "    <tr>\n",
       "      <th>mean</th>\n",
       "      <td>3.512422</td>\n",
       "      <td>2002.199779</td>\n",
       "    </tr>\n",
       "    <tr>\n",
       "      <th>25%</th>\n",
       "      <td>3.000000</td>\n",
       "      <td>2000.000000</td>\n",
       "    </tr>\n",
       "    <tr>\n",
       "      <th>50%</th>\n",
       "      <td>4.000000</td>\n",
       "      <td>2002.000000</td>\n",
       "    </tr>\n",
       "    <tr>\n",
       "      <th>75%</th>\n",
       "      <td>4.000000</td>\n",
       "      <td>2005.000000</td>\n",
       "    </tr>\n",
       "    <tr>\n",
       "      <th>max</th>\n",
       "      <td>5.000000</td>\n",
       "      <td>2009.000000</td>\n",
       "    </tr>\n",
       "  </tbody>\n",
       "</table>\n",
       "</div>"
      ],
      "text/plain": [
       "        rating    timestamp\n",
       "mean  3.512422  2002.199779\n",
       "25%   3.000000  2000.000000\n",
       "50%   4.000000  2002.000000\n",
       "75%   4.000000  2005.000000\n",
       "max   5.000000  2009.000000"
      ]
     },
     "execution_count": 61,
     "metadata": {},
     "output_type": "execute_result"
    }
   ],
   "source": [
    "numeric_rating_data = pd.DataFrame(ratings, columns=['rating','timestamp'])\n",
    "numeric_rating_describe = numeric_rating_data.describe()\n",
    "numeric_rating_describe.loc[['mean', '25%', '50%', '75%', 'max']]"
   ]
  },
  {
   "cell_type": "code",
   "execution_count": null,
   "metadata": {
    "execution": {
     "iopub.execute_input": "2024-03-21T02:52:01.71118Z",
     "iopub.status.busy": "2024-03-21T02:52:01.710747Z",
     "iopub.status.idle": "2024-03-21T02:52:02.271306Z",
     "shell.execute_reply": "2024-03-21T02:52:02.270114Z",
     "shell.execute_reply.started": "2024-03-21T02:52:01.711147Z"
    },
    "id": "-EugeH25zSZq",
    "outputId": "9f32c765-124a-4753-8e43-12fe7688ceb5"
   },
   "outputs": [
    {
     "data": {
      "text/plain": [
       "Text(0.5, 1.0, 'count of ratings in years')"
      ]
     },
     "execution_count": 62,
     "metadata": {},
     "output_type": "execute_result"
    },
    {
     "data": {
      "image/png": "[encoded data removed]",
      "text/plain": [
       "<Figure size 640x480 with 1 Axes>"
      ]
     },
     "metadata": {},
     "output_type": "display_data"
    }
   ],
   "source": [
    "bin_size = numeric_rating_data['timestamp'].max() - numeric_rating_data['timestamp'].min()\n",
    "plt.hist(numeric_rating_data['timestamp'],bin_size)\n",
    "plt.xlabel('year')\n",
    "plt.ylabel(\"rating count\")\n",
    "plt.title(\"count of ratings in years\")"
   ]
  },
  {
   "cell_type": "code",
   "execution_count": null,
   "metadata": {
    "execution": {
     "iopub.execute_input": "2024-03-21T02:52:02.274761Z",
     "iopub.status.busy": "2024-03-21T02:52:02.273667Z",
     "iopub.status.idle": "2024-03-21T02:52:02.909488Z",
     "shell.execute_reply": "2024-03-21T02:52:02.908152Z",
     "shell.execute_reply.started": "2024-03-21T02:52:02.274706Z"
    },
    "id": "-GJGIKbwzSZq",
    "outputId": "fbf29c77-5c6c-4cf0-c56b-90eefb9cd371"
   },
   "outputs": [
    {
     "data": {
      "text/plain": [
       "Text(0.5, 1.0, 'ratings distributions')"
      ]
     },
     "execution_count": 63,
     "metadata": {},
     "output_type": "execute_result"
    },
    {
     "data": {
      "image/png": "[encoded data removed]",
      "text/plain": [
       "<Figure size 640x480 with 1 Axes>"
      ]
     },
     "metadata": {},
     "output_type": "display_data"
    }
   ],
   "source": [
    "plt.hist(numeric_rating_data['rating'])\n",
    "plt.xlabel('ratings')\n",
    "plt.ylabel(\"count\")\n",
    "plt.title(\"ratings distributions\")"
   ]
  },
  {
   "cell_type": "markdown",
   "metadata": {
    "id": "3kP0qMLpzSZq"
   },
   "source": [
    "## 2. Dealing With NaN\n",
    "\n",
    "### NaN Analysis\n",
    "\n",
    "以primary_language列为例，其的缺乏可能是由于目录下并非某一种编程语言，可能是图书分享等文件形式，因此这一列为缺失状态，对结果的影响并不大，下面依据多种方法处理这一列的缺失数据。\n",
    "\n",
    "    1. 将缺失部分剔除\n",
    "    \n",
    "    2. 用最高频率值来填补缺失值\n",
    "    \n",
    "    3. 通过属性的相关关系来填补缺失值\n",
    "    \n",
    "    4.通过数据对象之间的相似性来填补缺失值"
   ]
  },
  {
   "cell_type": "markdown",
   "metadata": {
    "id": "cZ3MkLUFzSZq"
   },
   "source": [
    "经过统计，无空缺值，无需填充"
   ]
  },
  {
   "cell_type": "code",
   "execution_count": null,
   "metadata": {
    "execution": {
     "iopub.execute_input": "2024-03-21T02:52:02.912225Z",
     "iopub.status.busy": "2024-03-21T02:52:02.911878Z",
     "iopub.status.idle": "2024-03-21T02:52:02.971115Z",
     "shell.execute_reply": "2024-03-21T02:52:02.969821Z",
     "shell.execute_reply.started": "2024-03-21T02:52:02.912195Z"
    },
    "id": "awaHjvCtzSZr",
    "outputId": "1645578c-6437-4070-aaf4-8e262c0c8666"
   },
   "outputs": [
    {
     "name": "stdout",
     "output_type": "stream",
     "text": [
      "movies_NaN_counts:\n",
      " movieId    0\n",
      "title      0\n",
      "genres     0\n",
      "year       0\n",
      "dtype: int64\n",
      "ratings_NaN_counts:\n",
      " userId       0\n",
      "movieId      0\n",
      "rating       0\n",
      "timestamp    0\n",
      "dtype: int64\n"
     ]
    }
   ],
   "source": [
    "movies_NaN_counts = movies.isna().sum()\n",
    "print('movies_NaN_counts:\\n',movies_NaN_counts)\n",
    "ratings_NaN_counts = ratings.isna().sum()\n",
    "ratings_NaN_counts\n",
    "print('ratings_NaN_counts:\\n',ratings_NaN_counts)"
   ]
  }
 ],
 "metadata": {
  "colab": {
   "name": "0320-movies",
   "provenance": []
  },
  "kaggle": {
   "accelerator": "none",
   "dataSources": [
    {
     "datasetId": 2882739,
     "sourceId": 4970207,
     "sourceType": "datasetVersion"
    }
   ],
   "dockerImageVersionId": 30664,
   "isGpuEnabled": false,
   "isInternetEnabled": true,
   "language": "python",
   "sourceType": "notebook"
  },
  "kernelspec": {
   "display_name": "Python 3 (ipykernel)",
   "language": "python",
   "name": "python3"
  },
  "language_info": {
   "codemirror_mode": {
    "name": "ipython",
    "version": 3
   },
   "file_extension": ".py",
   "mimetype": "text/x-python",
   "name": "python",
   "nbconvert_exporter": "python",
   "pygments_lexer": "ipython3",
   "version": "3.11.5"
  }
 },
 "nbformat": 4,
 "nbformat_minor": 1
}
